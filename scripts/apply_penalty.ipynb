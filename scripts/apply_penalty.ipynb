{
 "cells": [
  {
   "cell_type": "code",
   "execution_count": 4,
   "id": "b041d8de-0b2f-445d-bab3-35ac3d2c37b0",
   "metadata": {},
   "outputs": [
    {
     "data": {
      "text/html": [
       "<style>:root { --jp-notebook-max-width: 90% !important; }</style>"
      ],
      "text/plain": [
       "<IPython.core.display.HTML object>"
      ]
     },
     "metadata": {},
     "output_type": "display_data"
    }
   ],
   "source": [
    "# ==============================================================================\n",
    "# --- 0. Preamble: Load Packages ---\n",
    "# ==============================================================================\n",
    "import pandas as pd\n",
    "import numpy as np\n",
    "import os\n",
    "\n",
    "# Optional: Notebook display settings for wider tables\n",
    "from IPython.display import display, HTML\n",
    "display(HTML(\"<style>:root { --jp-notebook-max-width: 90% !important; }</style>\"))"
   ]
  },
  {
   "cell_type": "code",
   "execution_count": 28,
   "id": "ea37ae90-3221-49e5-8af5-33d9609b2039",
   "metadata": {},
   "outputs": [
    {
     "name": "stdout",
     "output_type": "stream",
     "text": [
      "Selected Species: Rice\n",
      "Input Co-accessibility File: ../data/rice_coaccessibilty_scores.csv\n",
      "Input Penalty File: ../penalty_functions/rice_penalty_parameters.tsv\n",
      "Output File: ../results/rice_penalized_coaccess.csv\n"
     ]
    }
   ],
   "source": [
    "# *** USER: SELECT WHICH SPECIES TO RUN ***\n",
    "SPECIES_TO_RUN = \"Rice\" # Options: \"Maize\", \"Soybean\", \"Rice\"\n",
    "\n",
    "# --- Define directory paths relative to the notebook's location in `scripts/` ---\n",
    "data_directory = \"../data/\"\n",
    "penalty_directory = \"../penalty_functions/\"\n",
    "output_directory = \"../results/\"\n",
    "\n",
    "# --- Automatically generate file paths based on the selected species ---\n",
    "coacr_file = os.path.join(data_directory, f\"{SPECIES_TO_RUN.lower()}_coaccessibilty_scores.csv\")\n",
    "penalty_file = os.path.join(penalty_directory, f\"{SPECIES_TO_RUN.lower()}_penalty_parameters.tsv\")\n",
    "output_file = os.path.join(output_directory, f\"{SPECIES_TO_RUN.lower()}_penalized_coaccess.csv\")\n",
    "\n",
    "# Create the output directory if it doesn't exist\n",
    "os.makedirs(output_directory, exist_ok=True)\n",
    "\n",
    "print(f\"Selected Species: {SPECIES_TO_RUN}\")\n",
    "print(f\"Input Co-accessibility File: {coacr_file}\")\n",
    "print(f\"Input Penalty File: {penalty_file}\")\n",
    "print(f\"Output File: {output_file}\")\n"
   ]
  },
  {
   "cell_type": "code",
   "execution_count": 29,
   "id": "9091d8a2-98ea-4980-a700-d965499e2675",
   "metadata": {},
   "outputs": [],
   "source": [
    "# ==============================================================================\n",
    "# --- 2. Define Penalty Functions ---\n",
    "# ==============================================================================\n",
    "\n",
    "def load_penalty_parameters(filepath):\n",
    "    \"\"\"\n",
    "    Loads the penalty function parameters from a TSV file.\n",
    "    The file must contain columns for weight, beta, and alpha.\n",
    "    \"\"\"\n",
    "    try:\n",
    "        params_df = pd.read_csv(filepath, sep='\\t')\n",
    "        \n",
    "        # Define a mapping from the file's column names to the expected names\n",
    "        column_mapping = {\n",
    "            'pi_i (weight)': 'weight',\n",
    "            'alpha_i (exponent)': 'alpha',\n",
    "            'beta_i (scaling_factor)': 'beta'\n",
    "        }\n",
    "        \n",
    "        # Rename the columns to match what the script expects\n",
    "        params_df.rename(columns=column_mapping, inplace=True)\n",
    "\n",
    "        for col in ['weight', 'beta', 'alpha']:\n",
    "            if col in params_df.columns:\n",
    "                # Convert column to string, remove any commas, then convert to numeric\n",
    "                params_df[col] = pd.to_numeric(params_df[col].astype(str).str.replace(',', ''), errors='coerce')\n",
    "            else:\n",
    "                raise ValueError(f\"Required column '{col}' not found after renaming.\")\n",
    "        \n",
    "        # Drop rows where conversion might have failed\n",
    "        params_df.dropna(subset=['weight', 'beta', 'alpha'], inplace=True)\n",
    "\n",
    "        if not all(col in params_df.columns for col in ['weight', 'beta', 'alpha']):\n",
    "            raise ValueError(\"Penalty file must contain columns for weight, beta, and alpha.\")\n",
    "        return params_df.to_dict('records')\n",
    "    except FileNotFoundError:\n",
    "        print(f\"Error: Penalty parameter file not found at {filepath}\")\n",
    "        return None\n",
    "    except Exception as e:\n",
    "        print(f\"Error loading penalty parameters: {e}\")\n",
    "        return None\n",
    "\n",
    "def calculate_penalty(distance, params):\n",
    "    \"\"\"\n",
    "    Calculates the penalty for a given distance based on the GMM parameters.\n",
    "    The penalty is the sum of n weighted power-law components.\n",
    "    P(s) = sum(pi_i * beta_i * s^-alpha_i)\n",
    "    \"\"\"\n",
    "    penalty = 0\n",
    "    # Ensure distance is a positive number to avoid division by zero or complex numbers\n",
    "    if distance <= 0:\n",
    "        return 1.0 # No penalty for zero or negative distance\n",
    "        \n",
    "    for p in params:\n",
    "        penalty += p['weight'] * p['beta'] * (distance ** -p['alpha'])\n",
    "    return penalty"
   ]
  },
  {
   "cell_type": "code",
   "execution_count": 30,
   "id": "a6658e7a-5712-4659-abe1-94ae80d3b7ce",
   "metadata": {},
   "outputs": [
    {
     "name": "stdout",
     "output_type": "stream",
     "text": [
      "Loading penalty parameters...\n",
      "Loading co-accessibility data...\n",
      "Number of pairs with positive co-accessibility: 3,836,372\n",
      "Data loaded successfully.\n"
     ]
    },
    {
     "data": {
      "text/html": [
       "<div>\n",
       "<style scoped>\n",
       "    .dataframe tbody tr th:only-of-type {\n",
       "        vertical-align: middle;\n",
       "    }\n",
       "\n",
       "    .dataframe tbody tr th {\n",
       "        vertical-align: top;\n",
       "    }\n",
       "\n",
       "    .dataframe thead th {\n",
       "        text-align: right;\n",
       "    }\n",
       "</style>\n",
       "<table border=\"1\" class=\"dataframe\">\n",
       "  <thead>\n",
       "    <tr style=\"text-align: right;\">\n",
       "      <th></th>\n",
       "      <th>coACR</th>\n",
       "      <th>coaccess</th>\n",
       "      <th>distance</th>\n",
       "    </tr>\n",
       "  </thead>\n",
       "  <tbody>\n",
       "    <tr>\n",
       "      <th>0</th>\n",
       "      <td>Chr1_852_1353-Chr1_10687_11188</td>\n",
       "      <td>0.087854</td>\n",
       "      <td>9835</td>\n",
       "    </tr>\n",
       "    <tr>\n",
       "      <th>1</th>\n",
       "      <td>Chr1_852_1353-Chr1_16102_16603</td>\n",
       "      <td>0.163708</td>\n",
       "      <td>15250</td>\n",
       "    </tr>\n",
       "    <tr>\n",
       "      <th>2</th>\n",
       "      <td>Chr1_852_1353-Chr1_22848_23349</td>\n",
       "      <td>0.073163</td>\n",
       "      <td>21996</td>\n",
       "    </tr>\n",
       "    <tr>\n",
       "      <th>3</th>\n",
       "      <td>Chr1_852_1353-Chr1_26866_27367</td>\n",
       "      <td>0.107967</td>\n",
       "      <td>26014</td>\n",
       "    </tr>\n",
       "    <tr>\n",
       "      <th>4</th>\n",
       "      <td>Chr1_852_1353-Chr1_29606_30107</td>\n",
       "      <td>0.063463</td>\n",
       "      <td>28754</td>\n",
       "    </tr>\n",
       "  </tbody>\n",
       "</table>\n",
       "</div>"
      ],
      "text/plain": [
       "                            coACR  coaccess  distance\n",
       "0  Chr1_852_1353-Chr1_10687_11188  0.087854      9835\n",
       "1  Chr1_852_1353-Chr1_16102_16603  0.163708     15250\n",
       "2  Chr1_852_1353-Chr1_22848_23349  0.073163     21996\n",
       "3  Chr1_852_1353-Chr1_26866_27367  0.107967     26014\n",
       "4  Chr1_852_1353-Chr1_29606_30107  0.063463     28754"
      ]
     },
     "metadata": {},
     "output_type": "display_data"
    }
   ],
   "source": [
    "# ==============================================================================\n",
    "# --- 3. Load Data ---\n",
    "# ==============================================================================\n",
    "\n",
    "print(\"Loading penalty parameters...\")\n",
    "penalty_params = load_penalty_parameters(penalty_file)\n",
    "\n",
    "print(\"Loading co-accessibility data...\")\n",
    "coaccess_df = pd.read_csv(coacr_file)\n",
    "\n",
    "# Filter for rows with positive co-accessibility scores\n",
    "coaccess_df = coaccess_df[coaccess_df['coaccess'] > 0].copy()\n",
    "print(f\"Number of pairs with positive co-accessibility: {len(coaccess_df):,}\")\n",
    "\n",
    "\n",
    "print(\"Data loaded successfully.\")\n",
    "display(coaccess_df.head())"
   ]
  },
  {
   "cell_type": "code",
   "execution_count": 31,
   "id": "3c502b36-8e8b-43d4-9e02-3bbe16496808",
   "metadata": {},
   "outputs": [
    {
     "name": "stdout",
     "output_type": "stream",
     "text": [
      "Applying penalty function... (This may take a moment for large files)\n",
      "Penalty applied successfully.\n"
     ]
    },
    {
     "data": {
      "text/html": [
       "<div>\n",
       "<style scoped>\n",
       "    .dataframe tbody tr th:only-of-type {\n",
       "        vertical-align: middle;\n",
       "    }\n",
       "\n",
       "    .dataframe tbody tr th {\n",
       "        vertical-align: top;\n",
       "    }\n",
       "\n",
       "    .dataframe thead th {\n",
       "        text-align: right;\n",
       "    }\n",
       "</style>\n",
       "<table border=\"1\" class=\"dataframe\">\n",
       "  <thead>\n",
       "    <tr style=\"text-align: right;\">\n",
       "      <th></th>\n",
       "      <th>coACR</th>\n",
       "      <th>coaccess</th>\n",
       "      <th>distance</th>\n",
       "      <th>penalized_coaccess</th>\n",
       "    </tr>\n",
       "  </thead>\n",
       "  <tbody>\n",
       "    <tr>\n",
       "      <th>0</th>\n",
       "      <td>Chr1_852_1353-Chr1_10687_11188</td>\n",
       "      <td>0.087854</td>\n",
       "      <td>9835</td>\n",
       "      <td>1.753690e+06</td>\n",
       "    </tr>\n",
       "    <tr>\n",
       "      <th>1</th>\n",
       "      <td>Chr1_852_1353-Chr1_16102_16603</td>\n",
       "      <td>0.163708</td>\n",
       "      <td>15250</td>\n",
       "      <td>7.578407e+05</td>\n",
       "    </tr>\n",
       "    <tr>\n",
       "      <th>2</th>\n",
       "      <td>Chr1_852_1353-Chr1_22848_23349</td>\n",
       "      <td>0.073163</td>\n",
       "      <td>21996</td>\n",
       "      <td>1.010217e+05</td>\n",
       "    </tr>\n",
       "    <tr>\n",
       "      <th>3</th>\n",
       "      <td>Chr1_852_1353-Chr1_26866_27367</td>\n",
       "      <td>0.107967</td>\n",
       "      <td>26014</td>\n",
       "      <td>8.574967e+04</td>\n",
       "    </tr>\n",
       "    <tr>\n",
       "      <th>4</th>\n",
       "      <td>Chr1_852_1353-Chr1_29606_30107</td>\n",
       "      <td>0.063463</td>\n",
       "      <td>28754</td>\n",
       "      <td>3.623808e+04</td>\n",
       "    </tr>\n",
       "  </tbody>\n",
       "</table>\n",
       "</div>"
      ],
      "text/plain": [
       "                            coACR  coaccess  distance  penalized_coaccess\n",
       "0  Chr1_852_1353-Chr1_10687_11188  0.087854      9835        1.753690e+06\n",
       "1  Chr1_852_1353-Chr1_16102_16603  0.163708     15250        7.578407e+05\n",
       "2  Chr1_852_1353-Chr1_22848_23349  0.073163     21996        1.010217e+05\n",
       "3  Chr1_852_1353-Chr1_26866_27367  0.107967     26014        8.574967e+04\n",
       "4  Chr1_852_1353-Chr1_29606_30107  0.063463     28754        3.623808e+04"
      ]
     },
     "metadata": {},
     "output_type": "display_data"
    }
   ],
   "source": [
    "# ==============================================================================\n",
    "# --- 4. Apply Penalty ---\n",
    "# ==============================================================================\n",
    "\n",
    "print(\"Applying penalty function... (This may take a moment for large files)\")\n",
    "\n",
    "# Use the .apply() method on the 'distance' column to calculate penalties\n",
    "penalties = coaccess_df['distance'].apply(lambda d: calculate_penalty(d, penalty_params))\n",
    "\n",
    "# Multiply the original co-accessibility score by the calculated penalty\n",
    "coaccess_df['penalized_coaccess'] = coaccess_df['coaccess'] * penalties\n",
    "\n",
    "print(\"Penalty applied successfully.\")\n",
    "display(coaccess_df.head())"
   ]
  },
  {
   "cell_type": "code",
   "execution_count": 32,
   "id": "5ceaf26f-6407-499f-90bf-540f7cb46c72",
   "metadata": {},
   "outputs": [
    {
     "name": "stdout",
     "output_type": "stream",
     "text": [
      "Saving penalized results to: ../results/rice_penalized_coaccess.csv\n",
      "Done!\n"
     ]
    }
   ],
   "source": [
    "# ==============================================================================\n",
    "# --- 5. Save Corrected Data ---\n",
    "# ==============================================================================\n",
    "\n",
    "print(f\"Saving penalized results to: {output_file}\")\n",
    "coaccess_df.to_csv(output_file, index=False)\n",
    "print(\"Done!\")"
   ]
  }
 ],
 "metadata": {
  "kernelspec": {
   "display_name": "Python 3 (ipykernel)",
   "language": "python",
   "name": "python3"
  },
  "language_info": {
   "codemirror_mode": {
    "name": "ipython",
    "version": 3
   },
   "file_extension": ".py",
   "mimetype": "text/x-python",
   "name": "python",
   "nbconvert_exporter": "python",
   "pygments_lexer": "ipython3",
   "version": "3.10.13"
  }
 },
 "nbformat": 4,
 "nbformat_minor": 5
}
